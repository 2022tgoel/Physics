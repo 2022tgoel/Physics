{
 "cells": [
  {
   "cell_type": "markdown",
   "source": "# Quantum Error Correction\n* Implements Shor's Algorithm and demostrates improved error rates in simulations",
   "metadata": {
    "cell_id": "0308bad2-b3e6-4912-8ed1-673b5eb513b8",
    "tags": [],
    "deepnote_cell_type": "markdown"
   }
  },
  {
   "cell_type": "code",
   "metadata": {
    "cell_id": "fcbdb15c-ab03-4d31-8719-8eb97a5bc793",
    "tags": [],
    "deepnote_to_be_reexecuted": false,
    "source_hash": "fc2b349e",
    "execution_start": 1644540832027,
    "execution_millis": 393,
    "deepnote_cell_type": "code"
   },
   "source": "from qiskit import QuantumCircuit, execute, Aer, IBMQ\nfrom qiskit.compiler import transpile, assemble\nfrom qiskit.tools.jupyter import *\nfrom qiskit.visualization import *\nfrom qiskit import QuantumRegister, ClassicalRegister, QuantumCircuit\nfrom numpy import pi",
   "execution_count": 6,
   "outputs": []
  },
  {
   "cell_type": "markdown",
   "source": "## Assemble Fault-Tolerant and Non-Fault-Tolerant Circuits\n\n* We will flip the qubit (apply a NOT gate, otherwise known as an X gate) a certain number of times\n* TODO: expand to random clifford circuits",
   "metadata": {
    "cell_id": "083946ac-5eb1-4972-9a52-db84b1557cd8",
    "tags": [],
    "deepnote_cell_type": "markdown"
   }
  },
  {
   "cell_type": "code",
   "metadata": {
    "cell_id": "61bc82ac-cf6f-4898-98bc-dd4fe251511a",
    "deepnote_to_be_reexecuted": false,
    "source_hash": "8a465aea",
    "execution_start": 1644540833509,
    "execution_millis": 118,
    "deepnote_cell_type": "code"
   },
   "source": "def add_rotation(circuit):\n    for i in range(9):\n        circuit.x(i)\n\ndef FT_rotation(circuit, depth):\n    circuit.cx(0, 3)\n    circuit.cx(0, 6)\n    circuit.h(0)\n    circuit.h(3)\n    circuit.h(6)\n    circuit.cx(0,1)\n    circuit.cx(3, 4)\n    circuit.cx(6, 7)\n    circuit.cx(0,2)\n    circuit.cx(3,5)\n    circuit.cx(6,8)\n    # part where the random clifford circuits are put\n    for i in range(depth):\n        add_rotation(circuit)\n    #####################\n    circuit.cx(0, 1)\n    circuit.cx(3,4)\n    circuit.cx(6, 7)\n    circuit.cx(0,2)\n    circuit.cx(3,5)\n    circuit.cx(6, 8)\n    circuit.ccx(1,2,0)\n    circuit.ccx(4, 5, 3)\n    circuit.ccx(7,8,6)\n    circuit.h(0)\n    circuit.h(3)\n    circuit.h(6)\n    circuit.cx(0,3)\n    circuit.cx(0, 6)\n    circuit.ccx(3, 6, 0)\n    circuit.measure(0, 0)\n  #  for i in range(9): \n  #      circuit.measure(i, i)\ndef nFT_rotation(circuit, depth):\n    for i in range(depth):\n        add_rotation(circuit)\n    circuit.measure(0, 0)\n   # for i in range(9): \n   #     circuit.measure(i, i)\n\nqreg_q = QuantumRegister(9, 'q')\ncreg_c = ClassicalRegister(9, 'c')\nft_circuit = QuantumCircuit(qreg_q, creg_c)\nqreg_q1 = QuantumRegister(9, 'q')\ncreg_c1 = ClassicalRegister(9, 'c')\nnft_circuit = QuantumCircuit(qreg_q1, creg_c1)\ndepth = 50\nFT_rotation(ft_circuit, depth)\nnFT_rotation(nft_circuit, depth)",
   "execution_count": 7,
   "outputs": []
  },
  {
   "cell_type": "markdown",
   "source": "## Noise Model \n\nThere are two possible forms of error: \n\nOne is a gate error: an imperfection in any operation we perform. We model this here in a simple way, using so-called depolarizing noise. The effect of this will be to replace the state of any qubit with a completely random state. For two qubit gates, it is applied independently to each qubit. \n\nThe other form of noise is that for measurement. This simply flips between a 0 to a 1 and vice-versa immediately before measurement. \n ",
   "metadata": {
    "cell_id": "e326bd25-826f-47a1-93d7-69179e6d6eb2",
    "tags": [],
    "deepnote_cell_type": "markdown"
   }
  },
  {
   "cell_type": "code",
   "metadata": {
    "cell_id": "00003-50d2677b-0fd5-41f2-a686-ba3f38ff8eb5",
    "deepnote_to_be_reexecuted": false,
    "source_hash": "9457d527",
    "execution_start": 1644540835931,
    "execution_millis": 0,
    "deepnote_cell_type": "code"
   },
   "source": "from qiskit.providers.aer.noise import NoiseModel\nfrom qiskit.providers.aer.noise.errors import pauli_error, depolarizing_error\ndef get_noise(prob_1 = 0.01, prob_2=0.00, prob_3=0.0):\n\n    # Depolarizing quantum errors\n    error_1 = depolarizing_error(prob_1, 1)\n    error_2 = depolarizing_error(prob_2, 2)\n    error_3 = depolarizing_error(prob_3, 3)\n\n    # Add errors to noise model\n    noise_model = NoiseModel()\n    noise_model.add_all_qubit_quantum_error(error_1, ['x']) # only bit flip has error\n    noise_model.add_all_qubit_quantum_error(error_2, ['cx'])\n    noise_model.add_all_qubit_quantum_error(error_3, ['ccx'])\n    \n    return noise_model",
   "execution_count": 8,
   "outputs": []
  },
  {
   "cell_type": "markdown",
   "source": "## Comparing the Circuits\n* Shor's algorithm only corrects single qubit error's, so it's error rate is the probability of two or more qubits of the nine incurring an error\n* This has to be less than the standard error rate\n* For bit-flips of depth 50, 0.002 seems to be where the FT and nFT circuits perform similarly",
   "metadata": {
    "cell_id": "24119d31-e7da-4a4c-bbff-dd6a2482ce8a",
    "tags": [],
    "deepnote_cell_type": "markdown"
   }
  },
  {
   "cell_type": "markdown",
   "source": "### Run Simulation",
   "metadata": {
    "cell_id": "9289a575-df1c-48be-b433-08506914025d",
    "tags": [],
    "deepnote_cell_type": "markdown"
   }
  },
  {
   "cell_type": "code",
   "metadata": {
    "cell_id": "00004-948bc987-274a-4b0b-9654-ba369f4912c6",
    "deepnote_to_be_reexecuted": false,
    "source_hash": "3d939c2d",
    "execution_start": 1644540838620,
    "execution_millis": 3,
    "deepnote_cell_type": "code"
   },
   "source": "from qiskit import BasicAer\ndef run(circuit_list, noise_model):\n    data_list = []\n    for circuit in circuit_list:\n        backend = Aer.get_backend('aer_simulator')\n        # circuit = transpile(circuit, backend)\n        # print(circuit)\n        job = backend.run(circuit, noise_model=noise_model)\n        result = job.result()\n        data_list.append(result.get_counts(circuit))\n    return data_list",
   "execution_count": 9,
   "outputs": []
  },
  {
   "cell_type": "code",
   "metadata": {
    "cell_id": "00005-24f5a3d7-7888-4c90-99d5-6f51872d482b",
    "deepnote_to_be_reexecuted": false,
    "source_hash": "dee09cf3",
    "execution_start": 1644540840662,
    "execution_millis": 53,
    "deepnote_cell_type": "code"
   },
   "source": "print(get_noise(0.01))",
   "execution_count": 10,
   "outputs": [
    {
     "name": "stdout",
     "text": "NoiseModel:\n  Basis gates: ['cx', 'id', 'rz', 'sx', 'x']\n  Instructions with noise: ['x']\n  All-qubits errors: ['x']\n",
     "output_type": "stream"
    }
   ]
  },
  {
   "cell_type": "code",
   "metadata": {
    "cell_id": "00006-b6c331a3-be66-4617-a28f-b9aedc5deca6",
    "deepnote_to_be_reexecuted": false,
    "source_hash": "62943105",
    "execution_start": 1644541095846,
    "execution_millis": 1089,
    "deepnote_cell_type": "code"
   },
   "source": "data_list = run([ft_circuit, nft_circuit], get_noise(0.001))\nprint(data_list)",
   "execution_count": 13,
   "outputs": [
    {
     "name": "stdout",
     "text": "[{'000000001': 13, '000000000': 1011}, {'000000001': 27, '000000000': 997}]\n",
     "output_type": "stream"
    }
   ]
  },
  {
   "cell_type": "markdown",
   "source": "With an X-gate error rate of 0.002, the overall single-qubit error rate is around 0.05 (52/1024), which is around 25x times higher. ",
   "metadata": {
    "cell_id": "ef4bdc7c-27aa-4fbd-8485-bc6d0edc01aa",
    "tags": [],
    "deepnote_cell_type": "markdown"
   }
  },
  {
   "cell_type": "markdown",
   "source": "### Predict Error Rates\n$p$ is the probability of one qubit experiencing an error. This is **NOT** the equal to the probability in the noise model, which is the probability that a gate creates an error. A circuit with more gates and the same noise model will have a higher $p$. ",
   "metadata": {
    "cell_id": "fc602eb6-9883-4344-acfe-1224e9f10314",
    "tags": [],
    "deepnote_cell_type": "markdown"
   }
  },
  {
   "cell_type": "code",
   "metadata": {
    "cell_id": "00007-841d6c91-96e4-4326-92b1-8dec5d688143",
    "deepnote_output_heights": [
     21.1875,
     21.1875
    ],
    "deepnote_to_be_reexecuted": false,
    "source_hash": "3a620418",
    "execution_start": 1644541118885,
    "execution_millis": 14,
    "deepnote_cell_type": "code"
   },
   "source": "factorials = [1]\nchoose = [] # choose[i] = 9 choose i\n\nfor i in range(1, 10):\n    factorials.append(factorials[-1]*i)\n\nfor i in range(10):\n    choose.append(factorials[9]/(factorials[9-i]*factorials[i]))\n    \ndef calc_probs(error):\n    pows1 = [1]\n    pows2 = [1]\n    for i in range(1, 10):\n        pows1.append(pows1[-1]*error);\n        pows2.append(pows2[-1]*(1-error))\n    \n    p = [] # prob that first i are not correct, rest are\n    for i in range(10): \n        p.append(pows1[i]*pows2[9-i])\n    p2 = 0 #probabilities >1 errors\n    for i in range(2, 10):\n        p2+=p[i]*choose[i]\n    \n    return error, p2\n    \ncalc_probs(0.03)",
   "execution_count": 14,
   "outputs": [
    {
     "output_type": "execute_result",
     "execution_count": 14,
     "data": {
      "text/plain": "(0.03, 0.028158234297256834)"
     },
     "metadata": {}
    }
   ]
  },
  {
   "cell_type": "code",
   "metadata": {
    "cell_id": "e6d50e47-6ab6-4f83-b7b6-a5dd1c0bfc1a",
    "tags": [],
    "deepnote_to_be_reexecuted": false,
    "source_hash": "c3e6d222",
    "execution_start": 1644540734334,
    "execution_millis": 4,
    "deepnote_output_heights": [
     21
    ],
    "deepnote_cell_type": "code"
   },
   "source": "pow(0.05, 2)*pow(0.95, 7)*36",
   "execution_count": 3,
   "outputs": [
    {
     "output_type": "execute_result",
     "execution_count": 3,
     "data": {
      "text/plain": "0.0628503566484375"
     },
     "metadata": {}
    }
   ]
  },
  {
   "cell_type": "code",
   "metadata": {
    "cell_id": "00011-ffa896c7-850f-4b72-b76f-f195065b3079",
    "deepnote_output_heights": [
     null,
     40,
     250
    ],
    "deepnote_to_be_reexecuted": false,
    "source_hash": "fe7862b0",
    "execution_start": 1644541203316,
    "execution_millis": 236,
    "deepnote_cell_type": "code"
   },
   "source": "import matplotlib.pyplot as plt\np1 = []\np2 = []\n\nerrors = []\ne = 0\nd = 0.0001\nwhile e < 0.1:\n    errors.append(e)\n    a, b = calc_probs(e)\n    p1.append(a)\n    p2.append(b)\n    #print(e, a, b)\n    if abs(a-b) < 0.00001:\n        print(e)\n    e+=d\nfig = plt.figure()\nax = plt.axes()\nline, = ax.plot(errors, p1)\nline, ax.plot(errors, p2) #0.14 is when single qubit errors prevail - ft circuit works better",
   "execution_count": 16,
   "outputs": [
    {
     "name": "stdout",
     "text": "0\n0.0322999999999999\n",
     "output_type": "stream"
    },
    {
     "output_type": "execute_result",
     "execution_count": 16,
     "data": {
      "text/plain": "(<matplotlib.lines.Line2D at 0x7f7153730a90>,\n [<matplotlib.lines.Line2D at 0x7f7153730e50>])"
     },
     "metadata": {}
    },
    {
     "data": {
      "text/plain": "<Figure size 432x288 with 1 Axes>",
      "image/png": "[encoded data removed]"
     },
     "metadata": {
      "needs_background": "light",
      "image/png": {
       "width": 378,
       "height": 248
      }
     },
     "output_type": "display_data"
    }
   ]
  },
  {
   "cell_type": "code",
   "metadata": {
    "cell_id": "a021b867-a4a1-4173-b8fe-9205470d85db",
    "tags": [],
    "deepnote_cell_type": "code"
   },
   "source": "",
   "execution_count": null,
   "outputs": []
  },
  {
   "cell_type": "markdown",
   "source": "<a style='text-decoration:none;line-height:16px;display:flex;color:#5B5B62;padding:10px;justify-content:end;' href='https://deepnote.com?utm_source=created-in-deepnote-cell&projectId=c782e670-8153-4fc7-a9a3-0ae2dddfa952' target=\"_blank\">\n<img alt='Created in deepnote.com' style='display:inline;max-height:16px;margin:0px;margin-right:7.5px;' src='data:image/svg+xml;base64,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' > </img>\nCreated in <span style='font-weight:600;margin-left:4px;'>Deepnote</span></a>",
   "metadata": {
    "tags": [],
    "created_in_deepnote_cell": true,
    "deepnote_cell_type": "markdown"
   }
  }
 ],
 "nbformat": 4,
 "nbformat_minor": 5,
 "metadata": {
  "kernelspec": {
   "display_name": "Qiskit v0.34.2 (ipykernel)",
   "language": "python",
   "name": "python3"
  },
  "language_info": {
   "codemirror_mode": {
    "name": "ipython",
    "version": 3
   },
   "file_extension": ".py",
   "mimetype": "text/x-python",
   "name": "python",
   "nbconvert_exporter": "python",
   "pygments_lexer": "ipython3",
   "version": "3.8.12"
  },
  "widgets": {
   "application/vnd.jupyter.widget-state+json": {
    "state": {},
    "version_major": 2,
    "version_minor": 0
   }
  },
  "deepnote_notebook_id": "0716f3f1-770a-4c8c-a6f4-69566557d691",
  "deepnote": {},
  "deepnote_execution_queue": []
 }
}
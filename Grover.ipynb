{
 "cells": [
  {
   "cell_type": "markdown",
   "source": "# Grover's Algorithm\nhttps://learn.qiskit.org/course/ch-algorithms/grovers-algorithm \\\nhttps://github.com/microsoft/QuantumKatas/blob/main/GroversAlgorithm/GroversAlgorithm.ipynb \\\nRepresenting Multi-Qubit States: https://qiskit.org/textbook/ch-gates/multiple-qubits-entangled-states.html#represent",
   "metadata": {
    "cell_id": "62ca0ba3-72a8-4148-99d4-7daa2eb70a32",
    "deepnote_cell_type": "markdown"
   }
  },
  {
   "cell_type": "code",
   "metadata": {
    "cell_id": "00001-e05eb69b-842f-493c-8ef1-698af5e8e447",
    "deepnote_to_be_reexecuted": false,
    "source_hash": "2801347e",
    "execution_start": 1644537035601,
    "execution_millis": 1,
    "deepnote_cell_type": "code"
   },
   "source": "# importing Qiskit\nfrom qiskit import IBMQ, Aer, assemble, transpile\nfrom qiskit import QuantumCircuit, ClassicalRegister, QuantumRegister\n# import basic plot tools\nfrom qiskit.visualization import plot_histogram\nfrom qiskit import *",
   "execution_count": null,
   "outputs": []
  },
  {
   "cell_type": "code",
   "metadata": {
    "cell_id": "00002-f0c58d6d-1b68-41e0-810c-a61935b1dfbf",
    "deepnote_to_be_reexecuted": false,
    "source_hash": "2fa88cb1",
    "execution_start": 1644536668275,
    "execution_millis": 4,
    "deepnote_cell_type": "code"
   },
   "source": "n = 2\ngrover_circuit = QuantumCircuit(n)",
   "execution_count": null,
   "outputs": []
  },
  {
   "cell_type": "code",
   "metadata": {
    "cell_id": "00003-f893f441-dd9e-4868-8594-fe493fb01368",
    "deepnote_output_heights": [
     68
    ],
    "deepnote_to_be_reexecuted": false,
    "source_hash": "718947d9",
    "execution_start": 1644536670573,
    "execution_millis": 29,
    "deepnote_cell_type": "code"
   },
   "source": "def initialize_s(qc, qubits):\n    \"\"\"Apply a H-gate to 'qubits' in qc\"\"\"\n    for q in qubits:\n        qc.h(q)\n    return qc\n\n\ngrover_circuit = initialize_s(grover_circuit, [0,1])\ngrover_circuit.draw()",
   "execution_count": null,
   "outputs": [
    {
     "output_type": "execute_result",
     "execution_count": 3,
     "data": {
      "text/plain": "     ┌───┐\nq_0: ┤ H ├\n     ├───┤\nq_1: ┤ H ├\n     └───┘",
      "text/html": "<pre style=\"word-wrap: normal;white-space: pre;background: #fff0;line-height: 1.1;font-family: &quot;Courier New&quot;,Courier,monospace\">     ┌───┐\nq_0: ┤ H ├\n     ├───┤\nq_1: ┤ H ├\n     └───┘</pre>"
     },
     "metadata": {}
    }
   ]
  },
  {
   "cell_type": "code",
   "metadata": {
    "cell_id": "00004-3b1ee94e-f97e-46dd-a383-b1f449697b4b",
    "deepnote_output_heights": [
     68
    ],
    "deepnote_to_be_reexecuted": false,
    "source_hash": "a4cc8d7e",
    "execution_start": 1644536684874,
    "execution_millis": 11,
    "deepnote_cell_type": "code"
   },
   "source": "# Oracle\n\n# version one: takes |11>\n'''\ngrover_circuit.cz(0,1)\ngrover_circuit.draw()\n'''\n# version two: takes |10>\n'''\ngrover_circuit.z(1)\ngrover_circuit.cz(0,1)\ngrover_circuit.draw()\n'''\n# version three: |01>\n\ngrover_circuit.z(0)\ngrover_circuit.cz(0,1)\ngrover_circuit.draw()\n",
   "execution_count": null,
   "outputs": [
    {
     "output_type": "execute_result",
     "execution_count": 4,
     "data": {
      "text/plain": "     ┌───┐┌───┐   \nq_0: ┤ H ├┤ Z ├─■─\n     ├───┤└───┘ │ \nq_1: ┤ H ├──────■─\n     └───┘        ",
      "text/html": "<pre style=\"word-wrap: normal;white-space: pre;background: #fff0;line-height: 1.1;font-family: &quot;Courier New&quot;,Courier,monospace\">     ┌───┐┌───┐   \nq_0: ┤ H ├┤ Z ├─■─\n     ├───┤└───┘ │ \nq_1: ┤ H ├──────■─\n     └───┘        </pre>"
     },
     "metadata": {}
    }
   ]
  },
  {
   "cell_type": "code",
   "metadata": {
    "cell_id": "00005-18432cba-2bf5-42ca-9a80-aec43150edd9",
    "deepnote_output_heights": [
     21.1875
    ],
    "deepnote_to_be_reexecuted": false,
    "source_hash": "9ea47557",
    "execution_start": 1644536687683,
    "execution_millis": 2,
    "deepnote_cell_type": "code"
   },
   "source": "# Diffusion operator (U_s)\ngrover_circuit.h([0,1])\ngrover_circuit.z([0,1])\ngrover_circuit.cz(0,1)\ngrover_circuit.h([0,1])",
   "execution_count": null,
   "outputs": [
    {
     "output_type": "execute_result",
     "execution_count": 5,
     "data": {
      "text/plain": "<qiskit.circuit.instructionset.InstructionSet at 0x7f15656485a0>"
     },
     "metadata": {}
    }
   ]
  },
  {
   "cell_type": "code",
   "metadata": {
    "cell_id": "00006-d1261358-bc31-4aa3-baf6-3b6fcaed2f99",
    "deepnote_output_heights": [
     94.390625
    ],
    "deepnote_to_be_reexecuted": false,
    "source_hash": "88f4b208",
    "execution_start": 1644536689875,
    "execution_millis": 25,
    "deepnote_cell_type": "code"
   },
   "source": "grover_circuit.measure_all()\ngrover_circuit.draw()",
   "execution_count": null,
   "outputs": [
    {
     "output_type": "execute_result",
     "execution_count": 6,
     "data": {
      "text/plain": "        ┌───┐┌───┐   ┌───┐┌───┐   ┌───┐ ░ ┌─┐   \n   q_0: ┤ H ├┤ Z ├─■─┤ H ├┤ Z ├─■─┤ H ├─░─┤M├───\n        ├───┤└───┘ │ ├───┤├───┤ │ ├───┤ ░ └╥┘┌─┐\n   q_1: ┤ H ├──────■─┤ H ├┤ Z ├─■─┤ H ├─░──╫─┤M├\n        └───┘        └───┘└───┘   └───┘ ░  ║ └╥┘\nmeas: 2/═══════════════════════════════════╩══╩═\n                                           0  1 ",
      "text/html": "<pre style=\"word-wrap: normal;white-space: pre;background: #fff0;line-height: 1.1;font-family: &quot;Courier New&quot;,Courier,monospace\">        ┌───┐┌───┐   ┌───┐┌───┐   ┌───┐ ░ ┌─┐   \n   q_0: ┤ H ├┤ Z ├─■─┤ H ├┤ Z ├─■─┤ H ├─░─┤M├───\n        ├───┤└───┘ │ ├───┤├───┤ │ ├───┤ ░ └╥┘┌─┐\n   q_1: ┤ H ├──────■─┤ H ├┤ Z ├─■─┤ H ├─░──╫─┤M├\n        └───┘        └───┘└───┘   └───┘ ░  ║ └╥┘\nmeas: 2/═══════════════════════════════════╩══╩═\n                                           0  1 </pre>"
     },
     "metadata": {}
    }
   ]
  },
  {
   "cell_type": "code",
   "metadata": {
    "cell_id": "00007-b5f8804d-ab4e-43d2-9d84-56a282b7d0b0",
    "deepnote_output_heights": [
     null,
     316,
     316
    ],
    "deepnote_to_be_reexecuted": false,
    "source_hash": "b45cfbba",
    "execution_start": 1644536692229,
    "execution_millis": 3180,
    "deepnote_cell_type": "code"
   },
   "source": "aer_sim = Aer.get_backend('aer_simulator')\nqobj = assemble(grover_circuit)\nresult = aer_sim.run(qobj).result()\ncounts = result.get_counts()\nprint(counts)\nplot_histogram(counts)",
   "execution_count": null,
   "outputs": [
    {
     "name": "stdout",
     "text": "{'01': 1024}\n",
     "output_type": "stream"
    },
    {
     "output_type": "execute_result",
     "execution_count": 7,
     "data": {
      "text/plain": "<Figure size 504x360 with 1 Axes>",
      "image/png": "[encoded data removed]"
     },
     "metadata": {
      "image/png": {
       "width": 461,
       "height": 314
      }
     }
    }
   ]
  },
  {
   "cell_type": "markdown",
   "source": "# Other",
   "metadata": {
    "cell_id": "00008-076c1b8b-7e4a-49f0-bca0-f9dbbfe609ac",
    "deepnote_cell_type": "markdown"
   }
  },
  {
   "cell_type": "code",
   "metadata": {
    "cell_id": "00009-cccab96a-3213-4418-90ac-296025c2094a",
    "deepnote_output_heights": [
     68
    ],
    "deepnote_cell_type": "code"
   },
   "source": "test_circuit = QuantumCircuit(1)\ntest_circuit.x(0)\ntest_circuit.z(0)\ntest_circuit.measure_all()\n\ntest_circuit.draw()",
   "execution_count": null,
   "outputs": [
    {
     "data": {
      "text/html": "<pre style=\"word-wrap: normal;white-space: pre;background: #fff0;line-height: 1.1;font-family: &quot;Courier New&quot;,Courier,monospace\">        ┌───┐┌───┐ ░ ┌─┐\n   q_0: ┤ X ├┤ Z ├─░─┤M├\n        └───┘└───┘ ░ └╥┘\nmeas: 1/══════════════╩═\n                      0 </pre>",
      "text/plain": "        ┌───┐┌───┐ ░ ┌─┐\n   q_0: ┤ X ├┤ Z ├─░─┤M├\n        └───┘└───┘ ░ └╥┘\nmeas: 1/══════════════╩═\n                      0 "
     },
     "execution_count": 123,
     "metadata": {},
     "output_type": "execute_result"
    }
   ]
  },
  {
   "cell_type": "code",
   "metadata": {
    "cell_id": "00010-69431c91-2775-4b6f-9458-c25c2867f0c7",
    "deepnote_cell_type": "code"
   },
   "source": "backend = Aer.get_backend('statevector_simulator')\njob = execute(test_circuit, backend)\nresult = job.result()\noutputstate = result.get_statevector(test_circuit, decimals=3)\nprint(outputstate)",
   "execution_count": null,
   "outputs": [
    {
     "name": "stdout",
     "output_type": "stream",
     "text": "[ 0.+0.j -1.-0.j]\n"
    }
   ]
  },
  {
   "cell_type": "code",
   "metadata": {
    "cell_id": "00011-1a8b22db-587f-4889-8730-26f26d08baec",
    "deepnote_output_heights": [
     95
    ],
    "deepnote_cell_type": "code"
   },
   "source": "oracle = QuantumCircuit(2)\noracle.initialize([0+0j, 1+0j, 0+0j, 0+0j], (0, 1))\noracle.z(0)\n#oracle.cz(0, 1)\noracle.measure_all()\n\noracle.draw()",
   "execution_count": null,
   "outputs": [
    {
     "data": {
      "text/html": "<pre style=\"word-wrap: normal;white-space: pre;background: #fff0;line-height: 1.1;font-family: &quot;Courier New&quot;,Courier,monospace\">        ┌──────────────────────┐┌───┐ ░ ┌─┐   \n   q_0: ┤0                     ├┤ Z ├─░─┤M├───\n        │  Initialize(0,1,0,0) │└───┘ ░ └╥┘┌─┐\n   q_1: ┤1                     ├──────░──╫─┤M├\n        └──────────────────────┘      ░  ║ └╥┘\nmeas: 2/═════════════════════════════════╩══╩═\n                                         0  1 </pre>",
      "text/plain": "        ┌──────────────────────┐┌───┐ ░ ┌─┐   \n   q_0: ┤0                     ├┤ Z ├─░─┤M├───\n        │  Initialize(0,1,0,0) │└───┘ ░ └╥┘┌─┐\n   q_1: ┤1                     ├──────░──╫─┤M├\n        └──────────────────────┘      ░  ║ └╥┘\nmeas: 2/═════════════════════════════════╩══╩═\n                                         0  1 "
     },
     "execution_count": 25,
     "metadata": {},
     "output_type": "execute_result"
    }
   ]
  },
  {
   "cell_type": "code",
   "metadata": {
    "cell_id": "00012-a2d97bd3-e3e2-4dca-9383-af7a24e55281",
    "deepnote_cell_type": "code"
   },
   "source": "backend = Aer.get_backend('statevector_simulator')\njob = execute(oracle, backend)\nresult = job.result()\noutputstate = result.get_statevector(oracle, decimals=3)\nprint(outputstate)",
   "execution_count": null,
   "outputs": [
    {
     "name": "stdout",
     "output_type": "stream",
     "text": "[ 0.+0.j -1.+0.j  0.+0.j -0.+0.j]\n"
    }
   ]
  },
  {
   "cell_type": "markdown",
   "source": "<a style='text-decoration:none;line-height:16px;display:flex;color:#5B5B62;padding:10px;justify-content:end;' href='https://deepnote.com?utm_source=created-in-deepnote-cell&projectId=c782e670-8153-4fc7-a9a3-0ae2dddfa952' target=\"_blank\">\n<img alt='Created in deepnote.com' style='display:inline;max-height:16px;margin:0px;margin-right:7.5px;' src='data:image/svg+xml;base64,PD94bWwgdmVyc2lvbj0iMS4wIiBlbmNvZGluZz0iVVRGLTgiPz4KPHN2ZyB3aWR0aD0iODBweCIgaGVpZ2h0PSI4MHB4IiB2aWV3Qm94PSIwIDAgODAgODAiIHZlcnNpb249IjEuMSIgeG1sbnM9Imh0dHA6Ly93d3cudzMub3JnLzIwMDAvc3ZnIiB4bWxuczp4bGluaz0iaHR0cDovL3d3dy53My5vcmcvMTk5OS94bGluayI+CiAgICA8IS0tIEdlbmVyYXRvcjogU2tldGNoIDU0LjEgKDc2NDkwKSAtIGh0dHBzOi8vc2tldGNoYXBwLmNvbSAtLT4KICAgIDx0aXRsZT5Hcm91cCAzPC90aXRsZT4KICAgIDxkZXNjPkNyZWF0ZWQgd2l0aCBTa2V0Y2guPC9kZXNjPgogICAgPGcgaWQ9IkxhbmRpbmciIHN0cm9rZT0ibm9uZSIgc3Ryb2tlLXdpZHRoPSIxIiBmaWxsPSJub25lIiBmaWxsLXJ1bGU9ImV2ZW5vZGQiPgogICAgICAgIDxnIGlkPSJBcnRib2FyZCIgdHJhbnNmb3JtPSJ0cmFuc2xhdGUoLTEyMzUuMDAwMDAwLCAtNzkuMDAwMDAwKSI+CiAgICAgICAgICAgIDxnIGlkPSJHcm91cC0zIiB0cmFuc2Zvcm09InRyYW5zbGF0ZSgxMjM1LjAwMDAwMCwgNzkuMDAwMDAwKSI+CiAgICAgICAgICAgICAgICA8cG9seWdvbiBpZD0iUGF0aC0yMCIgZmlsbD0iIzAyNjVCNCIgcG9pbnRzPSIyLjM3NjIzNzYyIDgwIDM4LjA0NzY2NjcgODAgNTcuODIxNzgyMiA3My44MDU3NTkyIDU3LjgyMTc4MjIgMzIuNzU5MjczOSAzOS4xNDAyMjc4IDMxLjY4MzE2ODMiPjwvcG9seWdvbj4KICAgICAgICAgICAgICAgIDxwYXRoIGQ9Ik0zNS4wMDc3MTgsODAgQzQyLjkwNjIwMDcsNzYuNDU0OTM1OCA0Ny41NjQ5MTY3LDcxLjU0MjI2NzEgNDguOTgzODY2LDY1LjI2MTk5MzkgQzUxLjExMjI4OTksNTUuODQxNTg0MiA0MS42NzcxNzk1LDQ5LjIxMjIyODQgMjUuNjIzOTg0Niw0OS4yMTIyMjg0IEMyNS40ODQ5Mjg5LDQ5LjEyNjg0NDggMjkuODI2MTI5Niw0My4yODM4MjQ4IDM4LjY0NzU4NjksMzEuNjgzMTY4MyBMNzIuODcxMjg3MSwzMi41NTQ0MjUgTDY1LjI4MDk3Myw2Ny42NzYzNDIxIEw1MS4xMTIyODk5LDc3LjM3NjE0NCBMMzUuMDA3NzE4LDgwIFoiIGlkPSJQYXRoLTIyIiBmaWxsPSIjMDAyODY4Ij48L3BhdGg+CiAgICAgICAgICAgICAgICA8cGF0aCBkPSJNMCwzNy43MzA0NDA1IEwyNy4xMTQ1MzcsMC4yNTcxMTE0MzYgQzYyLjM3MTUxMjMsLTEuOTkwNzE3MDEgODAsMTAuNTAwMzkyNyA4MCwzNy43MzA0NDA1IEM4MCw2NC45NjA0ODgyIDY0Ljc3NjUwMzgsNzkuMDUwMzQxNCAzNC4zMjk1MTEzLDgwIEM0Ny4wNTUzNDg5LDc3LjU2NzA4MDggNTMuNDE4MjY3Nyw3MC4zMTM2MTAzIDUzLjQxODI2NzcsNTguMjM5NTg4NSBDNTMuNDE4MjY3Nyw0MC4xMjg1NTU3IDM2LjMwMzk1NDQsMzcuNzMwNDQwNSAyNS4yMjc0MTcsMzcuNzMwNDQwNSBDMTcuODQzMDU4NiwzNy43MzA0NDA1IDkuNDMzOTE5NjYsMzcuNzMwNDQwNSAwLDM3LjczMDQ0MDUgWiIgaWQ9IlBhdGgtMTkiIGZpbGw9IiMzNzkzRUYiPjwvcGF0aD4KICAgICAgICAgICAgPC9nPgogICAgICAgIDwvZz4KICAgIDwvZz4KPC9zdmc+' > </img>\nCreated in <span style='font-weight:600;margin-left:4px;'>Deepnote</span></a>",
   "metadata": {
    "tags": [],
    "created_in_deepnote_cell": true,
    "deepnote_cell_type": "markdown"
   }
  }
 ],
 "nbformat": 4,
 "nbformat_minor": 5,
 "metadata": {
  "kernelspec": {
   "display_name": "qiskit",
   "language": "python",
   "name": "qiskit"
  },
  "language_info": {
   "codemirror_mode": {
    "name": "ipython",
    "version": 3
   },
   "file_extension": ".py",
   "mimetype": "text/x-python",
   "name": "python",
   "nbconvert_exporter": "python",
   "pygments_lexer": "ipython3",
   "version": "3.8.5"
  },
  "deepnote_notebook_id": "ae4dd4a8-d154-4504-8b08-f88dd941e541",
  "deepnote": {},
  "deepnote_execution_queue": []
 }
}
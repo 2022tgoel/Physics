{
 "cells": [
  {
   "cell_type": "code",
   "metadata": {
    "cell_id": "3ef68cc6-3384-4f72-80e7-04adf6c10596",
    "deepnote_to_be_reexecuted": false,
    "source_hash": "d0fa018",
    "execution_start": 1644537071525,
    "execution_millis": 22,
    "deepnote_cell_type": "code"
   },
   "source": "from qiskit import QuantumCircuit, execute, Aer, IBMQ\nfrom qiskit.compiler import transpile, assemble\nfrom qiskit.tools.jupyter import *\nfrom qiskit.visualization import *\nfrom qiskit import QuantumCircuit, QuantumRegister, ClassicalRegister\nimport numpy as np\nfrom numpy import pi\n",
   "execution_count": null,
   "outputs": []
  },
  {
   "cell_type": "code",
   "metadata": {
    "cell_id": "00001-ea186cec-964e-46b6-9822-52b721b1297a",
    "deepnote_output_heights": [
     252.796875
    ],
    "deepnote_to_be_reexecuted": false,
    "source_hash": "dad88598",
    "execution_start": 1644537072589,
    "execution_millis": 78,
    "deepnote_cell_type": "code"
   },
   "source": "qreg_q = QuantumRegister(3, 'q')\ncreg_c = ClassicalRegister(3, 'c')\ncircuit = QuantumCircuit(qreg_q, creg_c)\n    \ndef teleport(state):\n    circuit.initialize(state, qreg_q[0])\n\n    circuit.h(qreg_q[1])\n    circuit.cx(qreg_q[1], qreg_q[2])\n    circuit.cx(qreg_q[0], qreg_q[1])\n    circuit.h(qreg_q[0])\n\n    circuit.measure(qreg_q[0], creg_c[0])\n    circuit.measure(qreg_q[1], creg_c[1])\n\n    circuit.z(qreg_q[2]).c_if(creg_c[0], 1)\n    circuit.x(qreg_q[2]).c_if(creg_c[1], 1)\n    \n    circuit.measure(qreg_q[2], creg_c[2])\n\nalpha = np.sqrt(.7)\nbeta = -np.sqrt(.3)\nteleport([alpha, beta])\ncircuit.draw()",
   "execution_count": null,
   "outputs": [
    {
     "output_type": "execute_result",
     "execution_count": 5,
     "data": {
      "text/plain": "     ┌──────────────────────────────┐          ┌───┐┌─┐                      »\nq_0: ┤ Initialize(0.83666,-0.54772) ├───────■──┤ H ├┤M├──────────────────────»\n     └────────────┬───┬─────────────┘     ┌─┴─┐└┬─┬┘└╥┘                      »\nq_1: ─────────────┤ H ├────────────────■──┤ X ├─┤M├──╫───────────────────────»\n                  └───┘              ┌─┴─┐└───┘ └╥┘  ║    ┌───┐      ┌───┐   »\nq_2: ────────────────────────────────┤ X ├───────╫───╫────┤ Z ├──────┤ X ├───»\n                                     └───┘       ║   ║    └─╥─┘      └─╥─┘   »\n                                                 ║   ║ ┌────╨────┐┌────╨────┐»\nc: 3/════════════════════════════════════════════╩═══╩═╡ c_0=0x1 ╞╡ c_1=0x1 ╞»\n                                                 1   0 └─────────┘└─────────┘»\n«        \n«q_0: ───\n«        \n«q_1: ───\n«     ┌─┐\n«q_2: ┤M├\n«     └╥┘\n«c: 3/═╩═\n«      2 ",
      "text/html": "<pre style=\"word-wrap: normal;white-space: pre;background: #fff0;line-height: 1.1;font-family: &quot;Courier New&quot;,Courier,monospace\">     ┌──────────────────────────────┐          ┌───┐┌─┐                      »\nq_0: ┤ Initialize(0.83666,-0.54772) ├───────■──┤ H ├┤M├──────────────────────»\n     └────────────┬───┬─────────────┘     ┌─┴─┐└┬─┬┘└╥┘                      »\nq_1: ─────────────┤ H ├────────────────■──┤ X ├─┤M├──╫───────────────────────»\n                  └───┘              ┌─┴─┐└───┘ └╥┘  ║    ┌───┐      ┌───┐   »\nq_2: ────────────────────────────────┤ X ├───────╫───╫────┤ Z ├──────┤ X ├───»\n                                     └───┘       ║   ║    └─╥─┘      └─╥─┘   »\n                                                 ║   ║ ┌────╨────┐┌────╨────┐»\nc: 3/════════════════════════════════════════════╩═══╩═╡ c_0=0x1 ╞╡ c_1=0x1 ╞»\n                                                 1   0 └─────────┘└─────────┘»\n«        \n«q_0: ───\n«        \n«q_1: ───\n«     ┌─┐\n«q_2: ┤M├\n«     └╥┘\n«c: 3/═╩═\n«      2 </pre>"
     },
     "metadata": {}
    }
   ]
  },
  {
   "cell_type": "code",
   "metadata": {
    "cell_id": "00002-074a786a-13c6-4240-9d1f-7a59dd26d9b0",
    "deepnote_to_be_reexecuted": false,
    "source_hash": "58befa59",
    "execution_start": 1644537080109,
    "execution_millis": 1932,
    "deepnote_cell_type": "code"
   },
   "source": "from qiskit import BasicAer\nbackend = BasicAer.get_backend('qasm_simulator')\ncircuit = transpile(circuit, backend)\njob = backend.run(circuit)\nteleport_result = job.result()\ndata = teleport_result.get_counts(circuit)",
   "execution_count": null,
   "outputs": []
  },
  {
   "cell_type": "code",
   "metadata": {
    "cell_id": "00003-98133355-f746-4a92-83f6-edf3b9173ba4",
    "deepnote_output_heights": [
     155.59375
    ],
    "deepnote_to_be_reexecuted": false,
    "source_hash": "e6928a8f",
    "execution_start": 1644537083788,
    "execution_millis": 14,
    "deepnote_cell_type": "code"
   },
   "source": "data",
   "execution_count": null,
   "outputs": [
    {
     "output_type": "execute_result",
     "execution_count": 7,
     "data": {
      "text/plain": "{'000': 188,\n '001': 193,\n '111': 73,\n '100': 74,\n '011': 188,\n '010': 171,\n '101': 56,\n '110': 81}"
     },
     "metadata": {}
    }
   ]
  },
  {
   "cell_type": "code",
   "metadata": {
    "cell_id": "00004-641ab049-7d07-4162-826b-6acaec1388c5",
    "deepnote_output_heights": [
     308
    ],
    "deepnote_to_be_reexecuted": false,
    "source_hash": "a6b0b7dc",
    "execution_start": 1644537089647,
    "execution_millis": 346,
    "deepnote_cell_type": "code"
   },
   "source": "import matplotlib\n%matplotlib inline\nalice = {}\nalice['00'] = data['000'] + data['100']\nalice['10'] = data['010'] + data['110']\nalice['01'] = data['001'] + data['101']\nalice['11'] = data['011'] + data['111']\nplot_histogram(alice);\n\n#plot bob's measurements\n\nbob = {}\nbob['0'] = data['000'] + data['010'] +  data['001'] + data['011']\nbob['1'] = data['100'] + data['110'] +  data['101'] + data['111']\nplot_histogram(bob)\n",
   "execution_count": null,
   "outputs": [
    {
     "output_type": "execute_result",
     "execution_count": 8,
     "data": {
      "text/plain": "<Figure size 504x360 with 1 Axes>",
      "image/png": "[encoded data removed]"
     },
     "metadata": {
      "image/png": {
       "width": 452,
       "height": 306
      }
     }
    }
   ]
  },
  {
   "cell_type": "code",
   "metadata": {
    "cell_id": "00006-56c185e6-0403-4f3d-85d2-d52d302bfd7d",
    "deepnote_cell_type": "code"
   },
   "source": "",
   "execution_count": null,
   "outputs": []
  },
  {
   "cell_type": "markdown",
   "source": "<a style='text-decoration:none;line-height:16px;display:flex;color:#5B5B62;padding:10px;justify-content:end;' href='https://deepnote.com?utm_source=created-in-deepnote-cell&projectId=c782e670-8153-4fc7-a9a3-0ae2dddfa952' target=\"_blank\">\n<img alt='Created in deepnote.com' style='display:inline;max-height:16px;margin:0px;margin-right:7.5px;' src='data:image/svg+xml;base64,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' > </img>\nCreated in <span style='font-weight:600;margin-left:4px;'>Deepnote</span></a>",
   "metadata": {
    "tags": [],
    "created_in_deepnote_cell": true,
    "deepnote_cell_type": "markdown"
   }
  }
 ],
 "nbformat": 4,
 "nbformat_minor": 5,
 "metadata": {
  "kernelspec": {
   "display_name": "Qiskit v0.34.2 (ipykernel)",
   "language": "python",
   "name": "python3"
  },
  "language_info": {
   "codemirror_mode": {
    "name": "ipython",
    "version": 3
   },
   "file_extension": ".py",
   "mimetype": "text/x-python",
   "name": "python",
   "nbconvert_exporter": "python",
   "pygments_lexer": "ipython3",
   "version": "3.8.12"
  },
  "widgets": {
   "application/vnd.jupyter.widget-state+json": {
    "state": {},
    "version_major": 2,
    "version_minor": 0
   }
  },
  "deepnote_notebook_id": "7bad5826-6bc2-424f-917d-bf58d4e7c960",
  "deepnote": {},
  "deepnote_execution_queue": []
 }
}